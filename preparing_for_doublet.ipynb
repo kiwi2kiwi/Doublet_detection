{
  "nbformat": 4,
  "nbformat_minor": 0,
  "metadata": {
    "colab": {
      "provenance": [],
      "collapsed_sections": [
        "HyA-XjSe9-M3",
        "lyM7s7W48Zf_",
        "WjtU_WCB86_d"
      ],
      "toc_visible": true,
      "authorship_tag": "ABX9TyOvpQUVQtmLMYghTxKjVlky",
      "include_colab_link": true
    },
    "kernelspec": {
      "name": "python3",
      "display_name": "Python 3"
    },
    "language_info": {
      "name": "python"
    }
  },
  "cells": [
    {
      "cell_type": "markdown",
      "metadata": {
        "id": "view-in-github",
        "colab_type": "text"
      },
      "source": [
        "<a href=\"https://colab.research.google.com/github/kiwi2kiwi/Doublet_detection/blob/main/preparing_for_doublet.ipynb\" target=\"_parent\"><img src=\"https://colab.research.google.com/assets/colab-badge.svg\" alt=\"Open In Colab\"/></a>"
      ]
    },
    {
      "cell_type": "markdown",
      "source": [
        "# Tutorial:\n",
        "To train the network, run the following cells:\n",
        "\n",
        "Eigener Dataloader 103 size\\\n",
        "Loading data from h5ad\\\n",
        "Architecture\\\n",
        "Early stopping\\\n",
        "Training"
      ],
      "metadata": {
        "id": "6fy0X4x8cnzg"
      }
    },
    {
      "cell_type": "markdown",
      "source": [
        "# Important imports"
      ],
      "metadata": {
        "id": "mUuYivKAa_CV"
      }
    },
    {
      "cell_type": "code",
      "source": [
        "!python -m pip install 'fsspec>=0.3.3'\n",
        "!python -m pip install dask[dataframe] --upgrade  "
      ],
      "metadata": {
        "id": "rqq2whjHa99z"
      },
      "execution_count": null,
      "outputs": []
    },
    {
      "cell_type": "markdown",
      "source": [
        "# Import the data\n",
        "We want the doubletannotation.csv as the label file.\n",
        "The pbmc_expr.csv can be the x \n",
        "doubletannotation.csv can be the y"
      ],
      "metadata": {
        "id": "HyA-XjSe9-M3"
      }
    },
    {
      "cell_type": "code",
      "source": [
        "import csv\n",
        "test_data = 0\n",
        "train_data = 0\n",
        "val_data = 0\n"
      ],
      "metadata": {
        "id": "JZdBbuAHBWEV"
      },
      "execution_count": null,
      "outputs": []
    },
    {
      "cell_type": "code",
      "source": [
        "# import required modules\n",
        "import pandas as pd\n",
        "import numpy as np\n",
        "import time\n",
        "from dask import dataframe as df1\n",
        "  \n",
        "# time taken to read data\n",
        "s_time_dask = time.time()\n",
        "dask_df = df1.read_csv('pbmc_expr.csv', assume_missing=True)\n",
        "e_time_dask = time.time()\n",
        "  \n",
        "print(\"Read with dask: \", (e_time_dask-s_time_dask), \"seconds\")\n",
        "  \n",
        "# data\n",
        "dask_df.head(1)"
      ],
      "metadata": {
        "id": "LQVe8B7ZEUaZ"
      },
      "execution_count": null,
      "outputs": []
    },
    {
      "cell_type": "code",
      "source": [
        "dialect = 0\n",
        "with open('pbmc_expr.csv', newline='') as csvfile:\n",
        "    dialect = csv.Sniffer().sniff(csvfile.read(1024))\n",
        "    csvfile.seek(0)\n",
        "    print(csvfile.seek(5))\n"
      ],
      "metadata": {
        "colab": {
          "base_uri": "https://localhost:8080/"
        },
        "id": "arTvMgtzBU01",
        "outputId": "64607e23-3cab-4924-fd0f-8ede9eb35580"
      },
      "execution_count": null,
      "outputs": [
        {
          "output_type": "stream",
          "name": "stdout",
          "text": [
            "5\n"
          ]
        }
      ]
    },
    {
      "cell_type": "code",
      "source": [
        "\n",
        "# import x\n",
        "with open('pbmc_expr.csv', newline='') as csvfile:\n",
        "    reader = csv.reader(csvfile, delimiter=' ', quotechar='|')\n",
        "    reader\n",
        "    for row in reader:\n",
        "        print(', '.join(row))"
      ],
      "metadata": {
        "id": "Gn9LXAiRCSLr"
      },
      "execution_count": null,
      "outputs": []
    },
    {
      "cell_type": "markdown",
      "source": [
        "# Eigener Dataloader 4 size"
      ],
      "metadata": {
        "id": "-uCWK1K2WXua"
      }
    },
    {
      "cell_type": "code",
      "source": [
        "import os\n",
        "import pandas as pd\n",
        "from torch.utils.data import Dataset, DataLoader\n",
        "from torchvision.transforms import ToTensor\n",
        "from torchvision import transforms\n",
        "\n",
        "class CustomDataloaderold(Dataset):\n",
        "    def __init__(self, dast):\n",
        "        self.dast = dast\n",
        "        \n",
        "    def __len__(self):\n",
        "        return self.dast.index.stop\n",
        "        \n",
        "    def __getitem__(self, idx):\n",
        "        entry = self.dast.iloc[idx]\n",
        "        if type(idx) == slice:\n",
        "          xent = np.vstack(entry.values[:,2:6]).astype(np.float)\n",
        "          x = torch.from_numpy(xent).float()\n",
        "          yent = np.vstack(entry.values[:,6:]).astype(np.float)\n",
        "          y = torch.from_numpy(yent).float()\n",
        "        else:\n",
        "          x = torch.tensor(entry[2:6]).float()\n",
        "          y = torch.tensor([float(int(i)) for i in entry[6:]]).float()\n",
        "        return x, y"
      ],
      "metadata": {
        "id": "zXK8-FfVWXHO"
      },
      "execution_count": null,
      "outputs": []
    },
    {
      "cell_type": "markdown",
      "source": [
        "# Eigener Dataloader 103 size"
      ],
      "metadata": {
        "id": "-38aiY4aPjsK"
      }
    },
    {
      "cell_type": "code",
      "source": [
        "import os\n",
        "import pandas as pd\n",
        "from torch.utils.data import Dataset, DataLoader\n",
        "from torchvision.transforms import ToTensor\n",
        "from torchvision import transforms\n",
        "\n",
        "class CustomDataloader(Dataset):\n",
        "    def __init__(self, dast):\n",
        "        self.dast = dast\n",
        "        \n",
        "    def __len__(self):\n",
        "        return self.dast.index.stop\n",
        "        \n",
        "    def __getitem__(self, idx):\n",
        "        entry = self.dast.iloc[idx]\n",
        "        if type(idx) == slice:\n",
        "          xent = np.vstack(entry.values[:,:-3]).astype(np.float)\n",
        "          x = torch.from_numpy(xent).float()\n",
        "          yent = np.vstack(entry.values[:,-3:]).astype(np.float)\n",
        "          y = torch.from_numpy(yent).float()\n",
        "        else:\n",
        "          x = torch.tensor(entry[:-3]).float()\n",
        "          y = torch.tensor([float(int(i)) for i in entry[-3:]]).float()\n",
        "        return x, y"
      ],
      "metadata": {
        "id": "WoZmwe8lPm1c"
      },
      "execution_count": null,
      "outputs": []
    },
    {
      "cell_type": "markdown",
      "source": [
        "# Loading data from csv"
      ],
      "metadata": {
        "id": "SQObqJOJ8zhe"
      }
    },
    {
      "cell_type": "code",
      "execution_count": null,
      "metadata": {
        "colab": {
          "base_uri": "https://localhost:8080/"
        },
        "id": "w9t89EATkcXW",
        "outputId": "67e73f74-b708-4379-bd4f-98ba1f086dff"
      },
      "outputs": [
        {
          "output_type": "stream",
          "name": "stdout",
          "text": [
            "cpu\n",
            "(362, 9)\n",
            "(290, 9)\n",
            "(300, 9)\n",
            "[[4865 'CGTCATTGTAGGTGTC.1' 0.773191750049591 ... True False False]\n",
            " [6858 'GCCGTGAGTGGTTCCC.1' 0.0421629399061203 ... False False True]\n",
            " [6681 'GCACTAAGTGGATTAT.1' 0.732089161872864 ... False True False]\n",
            " ...\n",
            " [1556 'AGCAACAAGGGTGAAC.1' 0.890693664550781 ... False True False]\n",
            " [2038 'AGTACGCGTTTCCGGC.1' 0.954596340656281 ... True False False]\n",
            " [4684 'CGGAATCGTTCCGGGA.1' 0.732701778411865 ... True False False]]\n",
            "     idxs                  V1    bcds_s          cxds_s   dbf_s     chord  \\\n",
            "0    4865  CGTCATTGTAGGTGTC.1  0.773192   806126.806729  0.6125 -1.196678   \n",
            "1    6858  GCCGTGAGTGGTTCCC.1  0.042163   207762.742497   0.025 -1.992952   \n",
            "2    6681  GCACTAAGTGGATTAT.1  0.732089   279032.772917   0.175 -2.065139   \n",
            "3    6855  GCCGTGAGTCAGTAAT.1  0.915708  1151176.904928  0.6125 -1.316453   \n",
            "4    4976  CTAAAGCTCATAGCCG.1  0.020389   127844.357496   0.025 -1.994257   \n",
            "..    ...                 ...       ...             ...     ...       ...   \n",
            "947  1829  AGGATCCGTGGAGCAA.1  0.745182   420345.627035  0.5625 -1.711118   \n",
            "948  1095  ACGAATCTCTTACTCG.1   0.08631   257386.647319  0.0125 -1.987088   \n",
            "949  1556  AGCAACAAGGGTGAAC.1  0.890694    497204.83353  0.5875 -1.714032   \n",
            "950  2038  AGTACGCGTTTCCGGC.1  0.954596   661410.159517  0.5375 -1.531838   \n",
            "951  4684  CGGAATCGTTCCGGGA.1  0.732702   711655.272112    0.65 -1.134221   \n",
            "\n",
            "    heterotypic homotypic singlet  \n",
            "0          True     False   False  \n",
            "1         False     False    True  \n",
            "2         False      True   False  \n",
            "3          True     False   False  \n",
            "4         False     False    True  \n",
            "..          ...       ...     ...  \n",
            "947       False      True   False  \n",
            "948       False     False    True  \n",
            "949       False      True   False  \n",
            "950        True     False   False  \n",
            "951        True     False   False  \n",
            "\n",
            "[952 rows x 9 columns]\n",
            "Training data: <__main__.CustomDataloader object at 0x7f88f9e0e610>\n",
            "Validation data: <__main__.CustomDataloader object at 0x7f88f9e0e9d0>\n",
            "Testing data: <__main__.CustomDataloader object at 0x7f88f9e1dc50>\n"
          ]
        }
      ],
      "source": [
        "import torch\n",
        "import numpy as np\n",
        "# Device configuration\n",
        "device = torch.device('cuda' if torch.cuda.is_available() else 'cpu')\n",
        "print(device)\n",
        "\n",
        "# import y and x\n",
        "import csv\n",
        "import pandas as pd\n",
        "dataset_read = pd.read_csv('Doubletannotation.csv')  \n",
        "\n",
        "# trimming the dataframe\n",
        "dataset_read = dataset_read[[\"V1\",\"bcds_s\",\"cxds_s\",\"dbf_s\",\"chord\",\"heterotypic\",\"homotypic\",\"singlet\"]]\n",
        "\n",
        "\n",
        "tempset = dataset_read\n",
        "train_split = tempset.sample(frac=0.8).reset_index()\n",
        "val_split = tempset.sample(frac=0.5).reset_index()\n",
        "test_split = tempset.sample(frac=1).reset_index()\n",
        "\n",
        "tt = train_split.to_numpy()\n",
        "t0 = np.where(tt[:,0+6] == True)\n",
        "t1 = np.where(tt[:,1+6] == True)\n",
        "t2 = np.where(tt[:,2+6] == True)\n",
        "t0set = tt[t0]\n",
        "t1set = tt[t1]\n",
        "t2set = tt[t2[0][:300]]\n",
        "print(t0set.shape)\n",
        "print(t1set.shape)\n",
        "print(t2set.shape)\n",
        "tset = np.concatenate((t0set, t1set), axis=0)\n",
        "tset = np.concatenate((tset, t2set), axis=0)\n",
        "np.random.shuffle(tset)\n",
        "print(tset)\n",
        "tset = pd.DataFrame(tset, columns=[\"idxs\",\"V1\",\"bcds_s\",\"cxds_s\",\"dbf_s\",\"chord\",\"heterotypic\",\"homotypic\",\"singlet\"])\n",
        "print(tset)\n",
        "\n",
        "\n",
        "train_data = CustomDataloader(tset)#train_split)\n",
        "val_data = CustomDataloader(val_split)\n",
        "test_data = CustomDataloader(test_split)\n",
        "\n",
        "loaders = {\n",
        "    'train' : train_data, #torch.utils.data.DataLoader(train_data, batch_size=100, shuffle=True, num_workers=1),\n",
        "    'val' : val_data, #torch.utils.data.DataLoader(val_data, batch_size=100, shuffle=True, num_workers=1),\n",
        "    'test'  : test_data #torch.utils.data.DataLoader(test_data, batch_size=100, shuffle=True, num_workers=1),\n",
        "}\n",
        "\n",
        "\n",
        "print(\"Training data:\" ,train_data)\n",
        "print(\"Validation data:\" ,val_data)\n",
        "print(\"Testing data:\" ,test_data)\n",
        "\n"
      ]
    },
    {
      "cell_type": "markdown",
      "source": [
        "# Loading Data from h5ad"
      ],
      "metadata": {
        "id": "yfvskbXcFL6w"
      }
    },
    {
      "cell_type": "code",
      "source": [
        "import torch\n",
        "import numpy as np\n",
        "# Device configuration\n",
        "device = torch.device('cuda' if torch.cuda.is_available() else 'cpu')\n",
        "print(device)\n",
        "\n",
        "# import y and x\n",
        "import csv\n",
        "import pandas as pd\n",
        "dataset_read = pd.read_csv('pbmc_hvg_12012_100.csv')  \n",
        "\n",
        "clist = []\n",
        "\n",
        "\n",
        "for index, row in dataset_read.iterrows():\n",
        "  if row[-1] == \"singlet\":\n",
        "    clist.append([False, False, True])\n",
        "  if row[-1] == \"homo\":\n",
        "    clist.append([False, True, False])\n",
        "  if row[-1] == \"hetero\":\n",
        "    clist.append([True, False, False])\n",
        "\n",
        "classes = pd.DataFrame(data = np.array(clist), columns=[\"hetero\",\"homo\",\"singlet\"])\n",
        "print(sum(classes[\"hetero\"]))\n",
        "print(sum(classes[\"homo\"]))\n",
        "print(sum(classes[\"singlet\"]))\n",
        "# print(classes)\n",
        "\n",
        "print(dataset_read.shape)\n",
        "dataset_read = dataset_read.drop([\"Unnamed: 0\",'obs',\"cell_type\"], axis=1)\n",
        "print(dataset_read.shape)\n",
        "dataset_read = dataset_read.join(classes)\n",
        "print(dataset_read.shape)\n",
        "\n",
        "\n",
        "tempset = dataset_read\n",
        "train_split = tempset.sample(frac=0.8)\n",
        "tempset = tempset.drop(train_split.index)\n",
        "val_split = tempset.sample(frac=0.5)\n",
        "tempset = tempset.drop(val_split.index)\n",
        "test_split = tempset.sample(frac=1)\n",
        "# tempset = tempset.drop(test_split.index)\n",
        "\n",
        "train_split.reset_index()\n",
        "val_split.reset_index()\n",
        "test_split.reset_index()\n",
        "\n",
        "tt = train_split.to_numpy()\n",
        "t0 = np.where(tt[:,-3] == True)\n",
        "t1 = np.where(tt[:,-2] == True)\n",
        "t2 = np.where(tt[:,-1] == True)\n",
        "t0set = tt[t0]\n",
        "t1set = tt[t1]\n",
        "t2set = tt[t2[0][:400]]\n",
        "print(t0set.shape)\n",
        "print(t1set.shape)\n",
        "print(t2set.shape)\n",
        "tset = np.concatenate((t0set, t1set), axis=0)\n",
        "tset = np.concatenate((tset, t2set), axis=0)\n",
        "temp_var = tset\n",
        "# tset = tset[:,1:] # eliminate index column\n",
        "np.random.shuffle(tset)\n",
        "\n",
        "tset = pd.DataFrame(tset, columns=dataset_read.columns.values)#[1:])\n",
        "# print(tset.columns.values)\n",
        "\n",
        "# print(val_split.columns.values)\n",
        "# val_split = val_split.drop([\"index\"], axis=1)\n",
        "# test_split = test_split.drop([\"index\"], axis=1)\n",
        "\n",
        "print(tset.shape)\n",
        "\n",
        "train_data = CustomDataloader(tset)#train_split)\n",
        "val_data = CustomDataloader(val_split)\n",
        "test_data = CustomDataloader(test_split)\n",
        "\n",
        "loaders = {\n",
        "    'train' : train_data, #torch.utils.data.DataLoader(train_data, batch_size=100, shuffle=True, num_workers=1),\n",
        "    'val' : val_data, #torch.utils.data.DataLoader(val_data, batch_size=100, shuffle=True, num_workers=1),\n",
        "    'test'  : test_data #torch.utils.data.DataLoader(test_data, batch_size=100, shuffle=True, num_workers=1),\n",
        "}\n",
        "\n",
        "\n",
        "print(\"Training data:\" ,train_data)\n",
        "print(\"Validation data:\" ,val_data)\n",
        "print(\"Testing data:\" ,test_data)\n",
        "\n",
        "\n",
        "print(\"Training data:\" ,tset.shape)\n",
        "print(\"Validation data:\" ,val_split.shape)\n",
        "print(\"Testing data:\" ,test_split.shape)\n",
        "\n",
        "print(loaders[\"train\"][0][0].shape)\n",
        "\n"
      ],
      "metadata": {
        "id": "GC8fWQUnFPQZ"
      },
      "execution_count": null,
      "outputs": []
    },
    {
      "cell_type": "markdown",
      "source": [
        "# Architectur\n",
        "\n",
        "\n"
      ],
      "metadata": {
        "id": "i1lClAZD7oh8"
      }
    },
    {
      "cell_type": "code",
      "source": [
        "\n",
        "\n",
        "'''\n",
        "in_channels (int) — Number of channels in the input image\n",
        "\n",
        "out_channels (int) — Number of channels produced by the convolution\n",
        "\n",
        "kernel_size (int or tuple) — Size of the convolving kernel\n",
        "\n",
        "stride (int or tuple, optional) — Stride of the convolution. Default: 1\n",
        "\n",
        "padding (int or tuple, optional) — Zero-padding added to both sides of the input. Default: 0\n",
        "\n",
        "padding_mode (string, optional) — ‘zeros’, ‘reflect’, ‘replicate’ or ‘circular’. Default: ‘zeros’\n",
        "\n",
        "dilation (int or tuple, optional) — Spacing between kernel elements. Default: 1\n",
        "\n",
        "groups (int, optional) — Number of blocked connections from input channels to output channels. Default: 1\n",
        "\n",
        "bias (bool, optional) — If True, adds a learnable bias to the output. Default: True\n",
        "'''\n",
        "\n",
        "\n",
        "# https://medium.com/@nutanbhogendrasharma/pytorch-convolutional-neural-network-with-mnist-dataset-4e8a4265e118\n",
        "\n",
        "# hier gehts weiter\n",
        "\n",
        "import torch.nn as nn\n",
        "class CNN(nn.Module):\n",
        "    def __init__(self):\n",
        "        super(CNN, self).__init__()\n",
        "        self.conv1 = nn.Sequential(         \n",
        "            nn.Conv2d(\n",
        "                in_channels=1,              \n",
        "                out_channels=16,            \n",
        "                kernel_size=5,              \n",
        "                stride=1,                   \n",
        "                padding=2,),                              \n",
        "            nn.ReLU(),                      \n",
        "            nn.MaxPool2d(kernel_size=2),)\n",
        "        self.conv2 = nn.Sequential(         \n",
        "            nn.Conv2d(16, 32, 5, 1, 2),     \n",
        "            nn.ReLU(),                      \n",
        "            nn.MaxPool2d(2),)\n",
        "        # fully connected layer, output 10 classes\n",
        "        self.out = nn.Linear(32 * 7 * 7, 10)\n",
        "    def forward(self, x):\n",
        "        x = self.conv1(x)\n",
        "        x = self.conv2(x)\n",
        "        # flatten the output of conv2 to (batch_size, 32 * 7 * 7)\n",
        "        x = x.view(x.size(0), -1)       \n",
        "        output = self.out(x)\n",
        "        return output#, x    # return x for visualization\n",
        "\n",
        "\n",
        "\n",
        "# Create ANN Model\n",
        "class ANNModel(nn.Module):\n",
        "    def __init__(self, input_size, output_size):\n",
        "        # super(ANNModel, self).__init__()\n",
        "        super().__init__()\n",
        "        self.relu = nn.ReLU()\n",
        "        self.fc1 = nn.Linear(input_size, 64) \n",
        "        self.fc2 = nn.Linear(64, 8)\n",
        "        self.fc3 = nn.Linear(8, 8)\n",
        "        self.fc4 = nn.Linear(8, 8)\n",
        "        self.fcend = nn.Linear(8, output_size)\n",
        "        self.sig = nn.Sigmoid()\n",
        "    \n",
        "    def forward(self, x):\n",
        "        # print(x.size())\n",
        "        # print(x)\n",
        "        # x = x.view(x.size(0), -1)       \n",
        "        out = self.fc1(x)\n",
        "        out = self.fc2(out)\n",
        "        out = self.fc3(out)\n",
        "        out = self.fc4(out)\n",
        "        out = self.fcend(out)\n",
        "        out = self.sig(out)\n",
        "        # out = self.fc1(x)\n",
        "        # out = self.fc2(out)\n",
        "        # out = self.fc3(out)\n",
        "        return out#.to(torch.float64)"
      ],
      "metadata": {
        "id": "qhVHZ3LC7nm5"
      },
      "execution_count": null,
      "outputs": []
    },
    {
      "cell_type": "code",
      "source": [
        "testt = torch.tensor([[[1,2,3],[1,2,3],[1,2,3],[1,2,3],[1,2,3],[1,2,3]],[[1,2,3],[1,2,3],[1,2,3],[1,2,3],[1,2,3],[1,2,3]]])\n",
        "print(testt)\n",
        "print(testt.size())\n",
        "print(testt.view(6,1))"
      ],
      "metadata": {
        "id": "0pFQ9Z1aVQRY"
      },
      "execution_count": null,
      "outputs": []
    },
    {
      "cell_type": "markdown",
      "source": [
        "# Early Stopping"
      ],
      "metadata": {
        "id": "lyM7s7W48Zf_"
      }
    },
    {
      "cell_type": "code",
      "source": [
        "import numpy as np\n",
        "import torch\n",
        "\n",
        "# https://github.com/Bjarten/early-stopping-pytorch/blob/master/pytorchtools.py\n",
        "\n",
        "class EarlyStopping:\n",
        "    \"\"\"Early stops the training if validation loss doesn't improve after a given patience.\"\"\"\n",
        "    def __init__(self, patience=7, verbose=False, delta=0.001, path='checkpoint.pt', trace_func=print):\n",
        "        \"\"\"\n",
        "        Args:\n",
        "            patience (int): How long to wait after last time validation loss improved.\n",
        "                            Default: 7\n",
        "            verbose (bool): If True, prints a message for each validation loss improvement. \n",
        "                            Default: False\n",
        "            delta (float): Minimum change in the monitored quantity to qualify as an improvement.\n",
        "                            Default: 0\n",
        "            path (str): Path for the checkpoint to be saved to.\n",
        "                            Default: 'checkpoint.pt'\n",
        "            trace_func (function): trace print function.\n",
        "                            Default: print            \n",
        "        \"\"\"\n",
        "        self.patience = patience\n",
        "        self.verbose = verbose\n",
        "        self.counter = 0\n",
        "        self.best_score = None\n",
        "        self.early_stop = False\n",
        "        self.val_loss_min = np.Inf\n",
        "        self.delta = delta\n",
        "        self.path = path\n",
        "        self.trace_func = trace_func\n",
        "        self.best_model = 0\n",
        "    def __call__(self, val_loss, model):\n",
        "\n",
        "        score = -val_loss\n",
        "\n",
        "        if self.best_score is None:\n",
        "            self.best_score = score\n",
        "            self.save_checkpoint(val_loss, model)\n",
        "        elif score < self.best_score + self.delta:\n",
        "            self.counter += 1\n",
        "            self.trace_func(f'EarlyStopping counter: {self.counter} out of {self.patience}')\n",
        "            if self.counter >= self.patience:\n",
        "                self.early_stop = True\n",
        "        else:\n",
        "            self.best_score = score\n",
        "            self.save_checkpoint(val_loss, model)\n",
        "            self.counter = 0\n",
        "\n",
        "    def save_checkpoint(self, val_loss, model):\n",
        "        '''Saves model when validation loss decrease.'''\n",
        "        if self.verbose:\n",
        "            self.trace_func(f'Accuracy increased ({1-self.val_loss_min:.6f} --> {1-val_loss:.6f}).  Saving model ...')\n",
        "        self.best_model = model\n",
        "        #torch.save(model.state_dict(), self.path)\n",
        "        self.val_loss_min = val_loss"
      ],
      "metadata": {
        "id": "YbnZC1HPqRoi"
      },
      "execution_count": null,
      "outputs": []
    },
    {
      "cell_type": "markdown",
      "source": [
        "# Training debugging"
      ],
      "metadata": {
        "id": "WjtU_WCB86_d"
      }
    },
    {
      "cell_type": "code",
      "source": [
        "import torch.nn\n",
        "from torch import optim\n",
        "from torch.autograd import Variable\n",
        "\n",
        "NeuralNet = ANNModel(4,3)\n",
        "    # print(nnet)\n",
        "\n",
        "num_epochs = 100\n",
        "\n",
        "NeuralNet.train()\n",
        "\n",
        "# initialize the early_stopping object\n",
        "early_stopping = EarlyStopping(patience=5, verbose=True)\n",
        "    \n",
        "# loss\n",
        "loss_func = nn.CrossEntropyLoss()\n",
        "\n",
        "# optimizer\n",
        "optimizer = optim.Adam(NeuralNet.parameters(), lr = 0.01)   \n",
        "\n",
        "\n",
        "# Train the model\n",
        "total_step = len(loaders['train'])\n",
        "        \n",
        "for epoch in range(num_epochs):\n",
        "    NeuralNet.train()\n",
        "    print(epoch)\n",
        "    for images, labels in loaders['train']:\n",
        "        # gives batch data, normalize x when iterate train_loader\n",
        "        b_x = Variable(images)   # batch x\n",
        "        b_y = Variable(labels)   # batch y\n",
        "        \n",
        "        output = NeuralNet(b_x.float())\n",
        "                  \n",
        "        loss = loss_func(output, b_y)\n",
        "            \n",
        "        # clear gradients for this training step   \n",
        "        optimizer.zero_grad()           \n",
        "            \n",
        "        # backpropagation, compute gradients \n",
        "        loss.backward()    \n",
        "        # apply gradients             \n",
        "        optimizer.step()                \n",
        "        pass\n",
        "    NeuralNet.eval()\n",
        "    for data, labels in loaders['val']:\n",
        "      test_output = NeuralNet(data.float())\n",
        "      pred_y = torch.max(test_output,-1)[1]\n",
        "      true_y = torch.max(labels,-1)[1]\n",
        "      accuracy = int((pred_y == true_y).item())\n",
        "\n",
        "\n",
        "\n",
        "\n",
        "torch.max(test_output)\n",
        "test_output\n",
        "\n",
        "# outputs = [0,0,0]\n",
        "# print([int(i) for i in (test_output>=0.5).tolist()])\n",
        "# outputs[test_output >= 0.5] = 1\n",
        "# outputs[test_output < 0.5] = 0\n",
        "pred_y = torch.max(test_output,-1)[1]\n",
        "true_y = torch.max(labels,-1)[1]\n",
        "accuracy = int((pred_y == true_y).item())\n",
        "print(pred_y)\n",
        "print(true_y)\n",
        "print((pred_y == true_y).item())\n",
        "print(accuracy)"
      ],
      "metadata": {
        "id": "JxBEeFcffV9d"
      },
      "execution_count": null,
      "outputs": []
    },
    {
      "cell_type": "code",
      "source": [
        "NeuralNet = ANNModel(4,3)\n",
        "NeuralNet.train()\n",
        "loss_func = nn.CrossEntropyLoss()\n",
        "optimizer = optim.Adam(NeuralNet.parameters(), lr = 0.01)   \n",
        "\n",
        "point1, target1 = loaders[\"train\"][0:2]\n",
        "output = NeuralNet(point1.float())\n",
        "loss = loss_func(output, target1)\n",
        "# clear gradients for this training step   \n",
        "NeuralNet.zero_grad()   \n",
        "\n",
        "# print(loss)\n",
        "print('fc1.weight before backward')\n",
        "print(NeuralNet.fc1.weight[0])\n",
        "loss.backward()\n",
        "print('fc1.weight after backward')\n",
        "print(NeuralNet.fc1.weight[0])            \n",
        "optimizer.step()  \n",
        "print('fc1.weight after step')\n",
        "print(NeuralNet.fc1.weight[0])            \n"
      ],
      "metadata": {
        "colab": {
          "base_uri": "https://localhost:8080/"
        },
        "id": "WKzfYXWXl7fl",
        "outputId": "5a6cf9b1-81ef-413f-9a0b-9d99ff52282b"
      },
      "execution_count": null,
      "outputs": [
        {
          "output_type": "stream",
          "name": "stdout",
          "text": [
            "fc1.weight before backward\n",
            "tensor([-0.3939,  0.0626, -0.4104, -0.1777], grad_fn=<SelectBackward0>)\n",
            "fc1.weight after backward\n",
            "tensor([-0.3939,  0.0626, -0.4104, -0.1777], grad_fn=<SelectBackward0>)\n",
            "fc1.weight after step\n",
            "tensor([-0.3939,  0.0626, -0.4104, -0.1777], grad_fn=<SelectBackward0>)\n"
          ]
        },
        {
          "output_type": "stream",
          "name": "stderr",
          "text": [
            "/usr/local/lib/python3.7/dist-packages/ipykernel_launcher.py:17: DeprecationWarning: `np.float` is a deprecated alias for the builtin `float`. To silence this warning, use `float` by itself. Doing this will not modify any behavior and is safe. If you specifically wanted the numpy scalar type, use `np.float64` here.\n",
            "Deprecated in NumPy 1.20; for more details and guidance: https://numpy.org/devdocs/release/1.20.0-notes.html#deprecations\n",
            "/usr/local/lib/python3.7/dist-packages/ipykernel_launcher.py:19: DeprecationWarning: `np.float` is a deprecated alias for the builtin `float`. To silence this warning, use `float` by itself. Doing this will not modify any behavior and is safe. If you specifically wanted the numpy scalar type, use `np.float64` here.\n",
            "Deprecated in NumPy 1.20; for more details and guidance: https://numpy.org/devdocs/release/1.20.0-notes.html#deprecations\n"
          ]
        }
      ]
    },
    {
      "cell_type": "code",
      "source": [
        "import torch.optim as optim\n",
        "NeuralNet = ANNModel(4,3)\n",
        "NeuralNet.train()\n",
        "criterion = nn.MSELoss()\n",
        "print(loaders[\"train\"][0:2])\n",
        "unpack = loaders[\"train\"]\n",
        "print(unpack[:])\n",
        "point1, target1 = loaders[\"train\"][0:2]\n",
        "# create your optimizer\n",
        "optimizer = optim.SGD(NeuralNet.parameters(), lr=0.01)\n",
        "print(len(loaders[\"test\"]))\n",
        "\n",
        "# in your training loop:\n",
        "print('fc1.weight before backward')\n",
        "print(NeuralNet.fc1.weight[0])\n",
        "optimizer.zero_grad()   # zero the gradient buffers\n",
        "output = NeuralNet(point1)\n",
        "print(output)\n",
        "print(target1)\n",
        "loss = criterion(output, target1)\n",
        "test = NeuralNet.fc1.bias\n",
        "# print(\"gradient: \", NeuralNet.fc1.bias)\n",
        "loss.backward()\n",
        "optimizer.step()    # Does the update\n",
        "print('fc1.weight after step')\n",
        "print(NeuralNet.fc1.weight[0]) "
      ],
      "metadata": {
        "colab": {
          "base_uri": "https://localhost:8080/",
          "height": 834
        },
        "id": "a2D6RJdfq9Kx",
        "outputId": "b8e6ad72-82e6-4d6d-974b-b1b909c8db91"
      },
      "execution_count": null,
      "outputs": [
        {
          "output_type": "stream",
          "name": "stdout",
          "text": [
            "(tensor([[ 2.7279e-02,  6.8598e+04,  2.5000e-02, -1.9943e+00],\n",
            "        [ 3.1351e-02,  1.3335e+05,  1.1250e-01, -1.9835e+00]],\n",
            "       dtype=torch.float64), tensor([[0., 0., 1.],\n",
            "        [0., 0., 1.]], dtype=torch.float64))\n",
            "(tensor([[ 2.7279e-02,  6.8598e+04,  2.5000e-02, -1.9943e+00],\n",
            "        [ 3.1351e-02,  1.3335e+05,  1.1250e-01, -1.9835e+00],\n",
            "        [ 5.7130e-02,  2.1423e+05,  2.2500e-01, -1.9150e+00],\n",
            "        ...,\n",
            "        [ 4.5890e-02,  2.0553e+05,  0.0000e+00, -1.9908e+00],\n",
            "        [ 2.1363e-02,  2.7655e+05,  2.7500e-01, -1.8708e+00],\n",
            "        [ 4.5804e-02,  1.8010e+05,  3.7500e-02, -1.9908e+00]],\n",
            "       dtype=torch.float64), tensor([[0., 0., 1.],\n",
            "        [0., 0., 1.],\n",
            "        [0., 0., 1.],\n",
            "        ...,\n",
            "        [0., 0., 1.],\n",
            "        [0., 0., 1.],\n",
            "        [0., 0., 1.]], dtype=torch.float64))\n",
            "2402\n",
            "fc1.weight before backward\n",
            "tensor([-0.4072,  0.0744, -0.0804, -0.4936], grad_fn=<SelectBackward0>)\n"
          ]
        },
        {
          "output_type": "stream",
          "name": "stderr",
          "text": [
            "/usr/local/lib/python3.7/dist-packages/ipykernel_launcher.py:17: DeprecationWarning: `np.float` is a deprecated alias for the builtin `float`. To silence this warning, use `float` by itself. Doing this will not modify any behavior and is safe. If you specifically wanted the numpy scalar type, use `np.float64` here.\n",
            "Deprecated in NumPy 1.20; for more details and guidance: https://numpy.org/devdocs/release/1.20.0-notes.html#deprecations\n",
            "/usr/local/lib/python3.7/dist-packages/ipykernel_launcher.py:19: DeprecationWarning: `np.float` is a deprecated alias for the builtin `float`. To silence this warning, use `float` by itself. Doing this will not modify any behavior and is safe. If you specifically wanted the numpy scalar type, use `np.float64` here.\n",
            "Deprecated in NumPy 1.20; for more details and guidance: https://numpy.org/devdocs/release/1.20.0-notes.html#deprecations\n"
          ]
        },
        {
          "output_type": "error",
          "ename": "RuntimeError",
          "evalue": "ignored",
          "traceback": [
            "\u001b[0;31m---------------------------------------------------------------------------\u001b[0m",
            "\u001b[0;31mRuntimeError\u001b[0m                              Traceback (most recent call last)",
            "\u001b[0;32m<ipython-input-204-dc639016a48b>\u001b[0m in \u001b[0;36m<module>\u001b[0;34m()\u001b[0m\n\u001b[1;32m     15\u001b[0m \u001b[0mprint\u001b[0m\u001b[0;34m(\u001b[0m\u001b[0mNeuralNet\u001b[0m\u001b[0;34m.\u001b[0m\u001b[0mfc1\u001b[0m\u001b[0;34m.\u001b[0m\u001b[0mweight\u001b[0m\u001b[0;34m[\u001b[0m\u001b[0;36m0\u001b[0m\u001b[0;34m]\u001b[0m\u001b[0;34m)\u001b[0m\u001b[0;34m\u001b[0m\u001b[0;34m\u001b[0m\u001b[0m\n\u001b[1;32m     16\u001b[0m \u001b[0moptimizer\u001b[0m\u001b[0;34m.\u001b[0m\u001b[0mzero_grad\u001b[0m\u001b[0;34m(\u001b[0m\u001b[0;34m)\u001b[0m   \u001b[0;31m# zero the gradient buffers\u001b[0m\u001b[0;34m\u001b[0m\u001b[0;34m\u001b[0m\u001b[0m\n\u001b[0;32m---> 17\u001b[0;31m \u001b[0moutput\u001b[0m \u001b[0;34m=\u001b[0m \u001b[0mNeuralNet\u001b[0m\u001b[0;34m(\u001b[0m\u001b[0mpoint1\u001b[0m\u001b[0;34m)\u001b[0m\u001b[0;34m\u001b[0m\u001b[0;34m\u001b[0m\u001b[0m\n\u001b[0m\u001b[1;32m     18\u001b[0m \u001b[0mprint\u001b[0m\u001b[0;34m(\u001b[0m\u001b[0moutput\u001b[0m\u001b[0;34m)\u001b[0m\u001b[0;34m\u001b[0m\u001b[0;34m\u001b[0m\u001b[0m\n\u001b[1;32m     19\u001b[0m \u001b[0mprint\u001b[0m\u001b[0;34m(\u001b[0m\u001b[0mtarget1\u001b[0m\u001b[0;34m)\u001b[0m\u001b[0;34m\u001b[0m\u001b[0;34m\u001b[0m\u001b[0m\n",
            "\u001b[0;32m/usr/local/lib/python3.7/dist-packages/torch/nn/modules/module.py\u001b[0m in \u001b[0;36m_call_impl\u001b[0;34m(self, *input, **kwargs)\u001b[0m\n\u001b[1;32m   1128\u001b[0m         if not (self._backward_hooks or self._forward_hooks or self._forward_pre_hooks or _global_backward_hooks\n\u001b[1;32m   1129\u001b[0m                 or _global_forward_hooks or _global_forward_pre_hooks):\n\u001b[0;32m-> 1130\u001b[0;31m             \u001b[0;32mreturn\u001b[0m \u001b[0mforward_call\u001b[0m\u001b[0;34m(\u001b[0m\u001b[0;34m*\u001b[0m\u001b[0minput\u001b[0m\u001b[0;34m,\u001b[0m \u001b[0;34m**\u001b[0m\u001b[0mkwargs\u001b[0m\u001b[0;34m)\u001b[0m\u001b[0;34m\u001b[0m\u001b[0;34m\u001b[0m\u001b[0m\n\u001b[0m\u001b[1;32m   1131\u001b[0m         \u001b[0;31m# Do not call functions when jit is used\u001b[0m\u001b[0;34m\u001b[0m\u001b[0;34m\u001b[0m\u001b[0;34m\u001b[0m\u001b[0m\n\u001b[1;32m   1132\u001b[0m         \u001b[0mfull_backward_hooks\u001b[0m\u001b[0;34m,\u001b[0m \u001b[0mnon_full_backward_hooks\u001b[0m \u001b[0;34m=\u001b[0m \u001b[0;34m[\u001b[0m\u001b[0;34m]\u001b[0m\u001b[0;34m,\u001b[0m \u001b[0;34m[\u001b[0m\u001b[0;34m]\u001b[0m\u001b[0;34m\u001b[0m\u001b[0;34m\u001b[0m\u001b[0m\n",
            "\u001b[0;32m<ipython-input-4-66465b3aefee>\u001b[0m in \u001b[0;36mforward\u001b[0;34m(self, x)\u001b[0m\n\u001b[1;32m     69\u001b[0m         \u001b[0;31m# print(x)\u001b[0m\u001b[0;34m\u001b[0m\u001b[0;34m\u001b[0m\u001b[0;34m\u001b[0m\u001b[0m\n\u001b[1;32m     70\u001b[0m         \u001b[0;31m# print(x.shape)\u001b[0m\u001b[0;34m\u001b[0m\u001b[0;34m\u001b[0m\u001b[0;34m\u001b[0m\u001b[0m\n\u001b[0;32m---> 71\u001b[0;31m         \u001b[0mout\u001b[0m \u001b[0;34m=\u001b[0m \u001b[0mself\u001b[0m\u001b[0;34m.\u001b[0m\u001b[0mfc1\u001b[0m\u001b[0;34m(\u001b[0m\u001b[0mx\u001b[0m\u001b[0;34m)\u001b[0m\u001b[0;34m\u001b[0m\u001b[0;34m\u001b[0m\u001b[0m\n\u001b[0m\u001b[1;32m     72\u001b[0m         \u001b[0mout\u001b[0m \u001b[0;34m=\u001b[0m \u001b[0mself\u001b[0m\u001b[0;34m.\u001b[0m\u001b[0mrelu1\u001b[0m\u001b[0;34m(\u001b[0m\u001b[0mout\u001b[0m\u001b[0;34m)\u001b[0m\u001b[0;34m\u001b[0m\u001b[0;34m\u001b[0m\u001b[0m\n\u001b[1;32m     73\u001b[0m         \u001b[0mout\u001b[0m \u001b[0;34m=\u001b[0m \u001b[0mself\u001b[0m\u001b[0;34m.\u001b[0m\u001b[0mfc2\u001b[0m\u001b[0;34m(\u001b[0m\u001b[0mout\u001b[0m\u001b[0;34m)\u001b[0m\u001b[0;34m\u001b[0m\u001b[0;34m\u001b[0m\u001b[0m\n",
            "\u001b[0;32m/usr/local/lib/python3.7/dist-packages/torch/nn/modules/module.py\u001b[0m in \u001b[0;36m_call_impl\u001b[0;34m(self, *input, **kwargs)\u001b[0m\n\u001b[1;32m   1128\u001b[0m         if not (self._backward_hooks or self._forward_hooks or self._forward_pre_hooks or _global_backward_hooks\n\u001b[1;32m   1129\u001b[0m                 or _global_forward_hooks or _global_forward_pre_hooks):\n\u001b[0;32m-> 1130\u001b[0;31m             \u001b[0;32mreturn\u001b[0m \u001b[0mforward_call\u001b[0m\u001b[0;34m(\u001b[0m\u001b[0;34m*\u001b[0m\u001b[0minput\u001b[0m\u001b[0;34m,\u001b[0m \u001b[0;34m**\u001b[0m\u001b[0mkwargs\u001b[0m\u001b[0;34m)\u001b[0m\u001b[0;34m\u001b[0m\u001b[0;34m\u001b[0m\u001b[0m\n\u001b[0m\u001b[1;32m   1131\u001b[0m         \u001b[0;31m# Do not call functions when jit is used\u001b[0m\u001b[0;34m\u001b[0m\u001b[0;34m\u001b[0m\u001b[0;34m\u001b[0m\u001b[0m\n\u001b[1;32m   1132\u001b[0m         \u001b[0mfull_backward_hooks\u001b[0m\u001b[0;34m,\u001b[0m \u001b[0mnon_full_backward_hooks\u001b[0m \u001b[0;34m=\u001b[0m \u001b[0;34m[\u001b[0m\u001b[0;34m]\u001b[0m\u001b[0;34m,\u001b[0m \u001b[0;34m[\u001b[0m\u001b[0;34m]\u001b[0m\u001b[0;34m\u001b[0m\u001b[0;34m\u001b[0m\u001b[0m\n",
            "\u001b[0;32m/usr/local/lib/python3.7/dist-packages/torch/nn/modules/linear.py\u001b[0m in \u001b[0;36mforward\u001b[0;34m(self, input)\u001b[0m\n\u001b[1;32m    112\u001b[0m \u001b[0;34m\u001b[0m\u001b[0m\n\u001b[1;32m    113\u001b[0m     \u001b[0;32mdef\u001b[0m \u001b[0mforward\u001b[0m\u001b[0;34m(\u001b[0m\u001b[0mself\u001b[0m\u001b[0;34m,\u001b[0m \u001b[0minput\u001b[0m\u001b[0;34m:\u001b[0m \u001b[0mTensor\u001b[0m\u001b[0;34m)\u001b[0m \u001b[0;34m->\u001b[0m \u001b[0mTensor\u001b[0m\u001b[0;34m:\u001b[0m\u001b[0;34m\u001b[0m\u001b[0;34m\u001b[0m\u001b[0m\n\u001b[0;32m--> 114\u001b[0;31m         \u001b[0;32mreturn\u001b[0m \u001b[0mF\u001b[0m\u001b[0;34m.\u001b[0m\u001b[0mlinear\u001b[0m\u001b[0;34m(\u001b[0m\u001b[0minput\u001b[0m\u001b[0;34m,\u001b[0m \u001b[0mself\u001b[0m\u001b[0;34m.\u001b[0m\u001b[0mweight\u001b[0m\u001b[0;34m,\u001b[0m \u001b[0mself\u001b[0m\u001b[0;34m.\u001b[0m\u001b[0mbias\u001b[0m\u001b[0;34m)\u001b[0m\u001b[0;34m\u001b[0m\u001b[0;34m\u001b[0m\u001b[0m\n\u001b[0m\u001b[1;32m    115\u001b[0m \u001b[0;34m\u001b[0m\u001b[0m\n\u001b[1;32m    116\u001b[0m     \u001b[0;32mdef\u001b[0m \u001b[0mextra_repr\u001b[0m\u001b[0;34m(\u001b[0m\u001b[0mself\u001b[0m\u001b[0;34m)\u001b[0m \u001b[0;34m->\u001b[0m \u001b[0mstr\u001b[0m\u001b[0;34m:\u001b[0m\u001b[0;34m\u001b[0m\u001b[0;34m\u001b[0m\u001b[0m\n",
            "\u001b[0;31mRuntimeError\u001b[0m: expected scalar type Float but found Double"
          ]
        }
      ]
    },
    {
      "cell_type": "code",
      "source": [
        "test = torch.tensor([[1,0],[0,1]])\n",
        "np.where(test[:1] == 1)\n",
        "#[where torch.tensor([1,0])[0] == 1]"
      ],
      "metadata": {
        "colab": {
          "base_uri": "https://localhost:8080/"
        },
        "id": "X1YtaKgRx1bm",
        "outputId": "092a06fe-0d2f-491a-dc31-b3d16ac8ff73"
      },
      "execution_count": null,
      "outputs": [
        {
          "output_type": "execute_result",
          "data": {
            "text/plain": [
              "(array([0]), array([0]))"
            ]
          },
          "metadata": {},
          "execution_count": 37
        }
      ]
    },
    {
      "cell_type": "code",
      "source": [
        "label = torch.tensor([[0,0,1],[0,0,1],[0,0,1],[0,0,1],[0,0,1],[0,0,1],[0,0,1],[0,0,1],\n",
        "                     [0,1,0],[0,1,0],[0,1,0],[0,1,0],[0,1,0],[0,1,0],[0,1,0],[0,1,0],\n",
        "                     [1,0,0],[1,0,0],[1,0,0],[1,0,0],[1,0,0],[1,0,0],[1,0,0],[1,0,0]])\n",
        "\n",
        "prediction = torch.tensor([[1,0,0],[0,0,1],[0,0,1],[0,0,1],[0,0,1],[0,0,1],[0,0,1],[0,0,1],\n",
        "                          [0,0,1],[0,0,1],[0,1,0],[0,1,0],[0,1,0],[0,1,0],[0,1,0],[0,1,0],\n",
        "                          [0,1,0],[0,1,0],[0,1,0],[1,0,0],[1,0,0],[1,0,0],[1,0,0],[1,0,0]])\n",
        "\n",
        "indices_class0 = np.where(label[:0] == 1)\n",
        "label_class0 = label[indices_class0]\n",
        "prediction_class0 = prediction[indices_class0]\n",
        "pred_y0 = torch.max(prediction_class0,-1)[1]\n",
        "true_y0 = torch.max(label_class0,-1)[1]\n",
        "accuracy0 = int((pred_y0 == true_y0).item())\n",
        "\n",
        "indices_class1 = np.where(label[:1] == 1)\n",
        "label_class1 = label[indices_class1]\n",
        "prediction_class1 = prediction[indices_class1]\n",
        "pred_y1 = torch.max(prediction_class1,-1)[1]\n",
        "true_y1 = torch.max(label_class1,-1)[1]\n",
        "accuracy1 = int((pred_y1 == true_y1).item())\n",
        "\n",
        "indices_class2 = np.where(label[:2] == 1)\n",
        "label_class2 = label[indices_class2]\n",
        "prediction_class2 = prediction[indices_class2]\n",
        "pred_y2 = torch.max(prediction_class2,-1)[1]\n",
        "true_y2 = torch.max(label_class2,-1)[1]\n",
        "accuracy2 = int((pred_y2 == true_y2).item())\n"
      ],
      "metadata": {
        "colab": {
          "base_uri": "https://localhost:8080/",
          "height": 130
        },
        "id": "DQn6lVqzwUay",
        "outputId": "a3331c2a-73c2-4116-e202-9ca9d202484b"
      },
      "execution_count": null,
      "outputs": [
        {
          "output_type": "error",
          "ename": "SyntaxError",
          "evalue": "ignored",
          "traceback": [
            "\u001b[0;36m  File \u001b[0;32m\"<ipython-input-26-8678919bc767>\"\u001b[0;36m, line \u001b[0;32m9\u001b[0m\n\u001b[0;31m    indices_class0 = [where label[0] == 1]\u001b[0m\n\u001b[0m                                ^\u001b[0m\n\u001b[0;31mSyntaxError\u001b[0m\u001b[0;31m:\u001b[0m invalid syntax\n"
          ]
        }
      ]
    },
    {
      "cell_type": "code",
      "source": [
        "import torch.nn as nn\n",
        "from torch import optim\n",
        "x1,y1 = loaders['train'][0]\n",
        "x2,y2 = loaders['train'][1]\n",
        "x3,y3 = loaders['train'][2]\n",
        "model = nn.Linear(4, 3)\n",
        "optimizer = optim.Adam(model.parameters(), lr=0.05)\n",
        "loss_fn = nn.MSELoss()\n",
        "\n",
        "# Run training\n",
        "niter = 10\n",
        "for _ in range(0, niter):\n",
        "\toptimizer.zero_grad()\n",
        "\tpredictions = model(x)\n",
        "\tloss = loss_fn(predictions, t)\n",
        "\tloss.backward()\n",
        "\toptimizer.step()\n",
        "\n",
        "\tprint(\"-\" * 10)\n",
        "\tprint(\"learned a = {}\".format(list(model.parameters())[0].data[0, 0]))\n",
        "\tprint(\"learned b = {}\".format(list(model.parameters())[1].data[0]))"
      ],
      "metadata": {
        "id": "O--Jue025Hxf"
      },
      "execution_count": null,
      "outputs": []
    },
    {
      "cell_type": "code",
      "source": [
        "from torch import optim\n",
        "x1,y1 = loaders['train'][0:10]\n",
        "x2,y2 = loaders['train'][1]\n",
        "x3,y3 = loaders['train'][2]\n",
        "NeuralNet = ANNModel(4,3)\n",
        "# NeuralNet.train()\n",
        "optimizer = optim.Adam(NeuralNet.parameters(), lr = 0.01) \n",
        "criterion = nn.MSELoss()#weight=torch.tensor([1,1,0.02]))\n",
        "\n",
        "\n",
        "weight_before = NeuralNet.fc1.weight[0]\n",
        "# print(list(NeuralNet.parameters())[0].clone())\n",
        "optimizer.zero_grad()\n",
        "output = NeuralNet(x1)\n",
        "# print(output)\n",
        "loss = criterion(output, y1)\n",
        "# print(x1,y1)\n",
        "# print(loss.item())\n",
        "loss.backward()\n",
        "optimizer.step()\n",
        "weight_after = NeuralNet.fc1.weight[0]\n",
        "# print(weight_after-weight_before)\n",
        "# print(list(NeuralNet.parameters())[0].clone())\n",
        "\n",
        "print(y1)\n",
        "\n",
        "import matplotlib.pyplot as plt\n",
        "from sklearn.metrics import roc_curve, auc\n",
        "# Compute ROC curve and ROC area for each class\n",
        "fpr = dict()\n",
        "tpr = dict()\n",
        "roc_auc = dict()\n",
        "for i in range(3):\n",
        "    fpr[i], tpr[i], _ = roc_curve(y1[:, i].detach().numpy(), output[:, i].detach().numpy())\n",
        "    roc_auc[i] = auc(fpr[i], tpr[i])\n",
        "\n",
        "# Compute micro-average ROC curve and ROC area\n",
        "fpr[\"micro\"], tpr[\"micro\"], _ = roc_curve(y1.detach().numpy().ravel(), output.detach().numpy().ravel())\n",
        "roc_auc[\"micro\"] = auc(fpr[\"micro\"], tpr[\"micro\"])\n",
        "\n",
        "\n",
        "\n",
        "plt.figure()\n",
        "lw = 2\n",
        "plt.plot(\n",
        "    fpr[2],\n",
        "    tpr[2],\n",
        "    color=\"darkorange\",\n",
        "    lw=lw,\n",
        "    label=\"ROC curve (area = %0.2f)\" % roc_auc[2],\n",
        ")\n",
        "plt.plot([0, 1], [0, 1], color=\"navy\", lw=lw, linestyle=\"--\")\n",
        "plt.xlim([0.0, 1.0])\n",
        "plt.ylim([0.0, 1.05])\n",
        "plt.xlabel(\"False Positive Rate\")\n",
        "plt.ylabel(\"True Positive Rate\")\n",
        "plt.title(\"Receiver operating characteristic example\")\n",
        "plt.legend(loc=\"lower right\")\n",
        "plt.show()"
      ],
      "metadata": {
        "colab": {
          "base_uri": "https://localhost:8080/",
          "height": 558
        },
        "id": "d9tMg-q4wzz-",
        "outputId": "b1fcd4b5-a826-4318-973d-5d61f5defc16"
      },
      "execution_count": null,
      "outputs": [
        {
          "output_type": "stream",
          "name": "stderr",
          "text": [
            "/usr/local/lib/python3.7/dist-packages/ipykernel_launcher.py:17: DeprecationWarning: `np.float` is a deprecated alias for the builtin `float`. To silence this warning, use `float` by itself. Doing this will not modify any behavior and is safe. If you specifically wanted the numpy scalar type, use `np.float64` here.\n",
            "Deprecated in NumPy 1.20; for more details and guidance: https://numpy.org/devdocs/release/1.20.0-notes.html#deprecations\n",
            "/usr/local/lib/python3.7/dist-packages/ipykernel_launcher.py:19: DeprecationWarning: `np.float` is a deprecated alias for the builtin `float`. To silence this warning, use `float` by itself. Doing this will not modify any behavior and is safe. If you specifically wanted the numpy scalar type, use `np.float64` here.\n",
            "Deprecated in NumPy 1.20; for more details and guidance: https://numpy.org/devdocs/release/1.20.0-notes.html#deprecations\n"
          ]
        },
        {
          "output_type": "stream",
          "name": "stdout",
          "text": [
            "tensor([[1., 0., 0.],\n",
            "        [0., 0., 1.],\n",
            "        [0., 1., 0.],\n",
            "        [1., 0., 0.],\n",
            "        [0., 0., 1.],\n",
            "        [1., 0., 0.],\n",
            "        [1., 0., 0.],\n",
            "        [0., 0., 1.],\n",
            "        [1., 0., 0.],\n",
            "        [0., 1., 0.]])\n"
          ]
        },
        {
          "output_type": "display_data",
          "data": {
            "text/plain": [
              "<Figure size 432x288 with 1 Axes>"
            ],
            "image/png": "[encoded data removed]"
          },
          "metadata": {
            "needs_background": "light"
          }
        }
      ]
    },
    {
      "cell_type": "markdown",
      "source": [
        "# Training"
      ],
      "metadata": {
        "id": "jWDIU0oLfOMV"
      }
    },
    {
      "cell_type": "code",
      "source": [
        "# useful code \n",
        "def acc_for_class(let_class, labels, predictions):\n",
        "  indices_class = np.where(labels[:,let_class] == 1)\n",
        "  label_class = labels[indices_class]\n",
        "  prediction_class = predictions[indices_class]\n",
        "  # print(prediction_class.shape)\n",
        "  # print(label_class.shape)\n",
        "  pred_y = torch.max(prediction_class,-1)[1]\n",
        "  true_y = torch.max(label_class,-1)[1]\n",
        "  accuracy = sum(pred_y == true_y).item()/pred_y.__len__()\n",
        "  return accuracy\n",
        "\n",
        "def save_csv(data, name):\n",
        "  t_np = data.numpy() #convert to Numpy array\n",
        "  df = pd.DataFrame(t_np) #convert to a dataframe\n",
        "  df.to_csv(name+\".csv\",index=False) #save to file\n",
        "\n",
        "def to_strings(matrix):\n",
        "  strings = []\n",
        "  for i in matrix:\n",
        "    if i[0]:\n",
        "      strings.append(\"hetero\")\n",
        "    if i[1]:\n",
        "      strings.append(\"homo\")\n",
        "    if i[2]:\n",
        "      strings.append(\"singlet\")\n",
        "  return strings"
      ],
      "metadata": {
        "id": "6EMb872L2lKB"
      },
      "execution_count": null,
      "outputs": []
    },
    {
      "cell_type": "code",
      "source": [
        "\n",
        "'''\n",
        "in_channels=1: because our input is a grayscale image.\n",
        "\n",
        "Stride: is the number of pixels to pass at a time when sliding the convolutional kernel.\n",
        "\n",
        "Padding: to preserve exactly the size of the input image, it is useful to add a zero padding on the border of the image.\n",
        "\n",
        "kernel_size: we need to define a kernel which is a small matrix of size 5 * 5. To perform the convolution operation, we just need to slide the kernel along the image horizontally and vertically and do the dot product of the kernel and the small portion of the image.\n",
        "\n",
        "The forward() pass defines the way we compute our output using the given layers and functions.\n",
        "'''\n",
        "import torch.nn\n",
        "from torch import optim\n",
        "from torch.autograd import Variable\n",
        "\n",
        "def train(num_epochs, NeuralNet, loaders):\n",
        "    \n",
        "    NeuralNet.train()\n",
        "\n",
        "    # initialize the early_stopping object\n",
        "    early_stopping = EarlyStopping(patience=10, verbose=True)\n",
        "    \n",
        "\n",
        "    total_step = len(loaders['train'])\n",
        "    _, labs = loaders['train'][:]\n",
        "    total_step\n",
        "    print(1-sum(labs[:,0])/total_step)\n",
        "    print(1-sum(labs[:,1])/total_step)\n",
        "    print(1-sum(labs[:,2])/total_step)\n",
        "\n",
        "    # optimizer\n",
        "    optimizer = optim.Adam(NeuralNet.parameters(), lr = 0.002)   \n",
        "\n",
        "    # loss\n",
        "    criterion = nn.MSELoss()#CrossEntropyLoss(weight=torch.tensor([1-sum(labs[:,0])/total_step, 1-sum(labs[:,1])/total_step, 1-sum(labs[:,2])/total_step]))\n",
        "\n",
        "    # Train the model\n",
        "    for epoch in range(num_epochs):\n",
        "        NeuralNet.train()\n",
        "        print(epoch)\n",
        "        for images, labels in loaders['train']:\n",
        "            # clear gradients for this training step   \n",
        "            optimizer.zero_grad()\n",
        "            output = NeuralNet(images).to(torch.float64)\n",
        "            loss = criterion(output, labels.to(torch.float64))\n",
        "            # print(loss)\n",
        "            loss.backward()\n",
        "            optimizer.step()    # Does the update\n",
        "\n",
        "        # early_stopping needs the validation loss to check if it has decresed, and if it has, it will make a checkpoint of the current model\n",
        "        NeuralNet.eval()\n",
        "        test_output = torch.tensor([])\n",
        "        images, labels = loaders[\"val\"][:]\n",
        "        with torch.no_grad():\n",
        "          for imag, labe in loaders['val']:\n",
        "              test_out = NeuralNet(imag.to(torch.float32))\n",
        "\n",
        "              test_output = torch.cat((test_output,test_out.unsqueeze(0)),0)\n",
        "\n",
        "        acc0 = acc_for_class(0,labels, test_output)\n",
        "        acc1 = acc_for_class(1,labels, test_output)\n",
        "        acc2 = acc_for_class(2,labels, test_output)\n",
        "        early_stopping(1-(acc0+acc1+acc2)/3, NeuralNet)\n",
        "        print(\"accuracy mean: \", ((acc0+acc1+acc2)/3))\n",
        "        if early_stopping.early_stop:\n",
        "            print(\"Early stopping\")\n",
        "            return early_stopping\n",
        "        pass\n",
        "    \n",
        "    \n",
        "    pass\n",
        "\n",
        "\n",
        "def test(model):\n",
        "    # Test the model\n",
        "    model.eval()\n",
        "    test_output = torch.tensor([])\n",
        "    images, labels = loaders[\"test\"][:]\n",
        "    with torch.no_grad():\n",
        "        for imag, labe in loaders['test']:\n",
        "            test_out = model(imag.to(torch.float32))\n",
        "\n",
        "            test_output = torch.cat((test_output,test_out.unsqueeze(0)),0)\n",
        "        \n",
        "        # save_csv(images,\"input\") # nicht wirklich gebraucht\n",
        "        save_csv(test_output,\"predictions\")\n",
        "        \n",
        "        \n",
        "        strings = to_strings(labels)\n",
        "        t_np = np.array(strings) #convert to Numpy array\n",
        "        df = pd.DataFrame(t_np) #convert to a dataframe\n",
        "        df.to_csv(\"labels.csv\",index=False) #save to file\n",
        "\n",
        "        acc0 = acc_for_class(0,labels, test_output)\n",
        "        acc1 = acc_for_class(1,labels, test_output)\n",
        "        acc2 = acc_for_class(2,labels, test_output)\n",
        "        print(\"Hetero acc: \",acc0)\n",
        "        print(\"Homo acc: \",acc1)\n",
        "        print(\"Sing acc: \",acc2)\n",
        "        \n",
        "        import matplotlib.pyplot as plt\n",
        "        from sklearn.metrics import roc_curve, auc\n",
        "        # Compute ROC curve and ROC area for each class\n",
        "        fpr = dict()\n",
        "        tpr = dict()\n",
        "        roc_auc = dict()\n",
        "        for i in range(3):\n",
        "            fpr[i], tpr[i], _ = roc_curve(labels[:, i].detach().numpy(), test_output[:, i].detach().numpy())\n",
        "            roc_auc[i] = auc(fpr[i], tpr[i])\n",
        "\n",
        "        # Compute micro-average ROC curve and ROC area\n",
        "        fpr[\"micro\"], tpr[\"micro\"], _ = roc_curve(labels.detach().numpy().ravel(), test_output.detach().numpy().ravel())\n",
        "        roc_auc[\"micro\"] = auc(fpr[\"micro\"], tpr[\"micro\"])\n",
        "\n",
        "\n",
        "\n",
        "        plt.figure()\n",
        "        lw = 2\n",
        "        plt.plot(\n",
        "            fpr[2],\n",
        "            tpr[2],\n",
        "            color=\"darkorange\",\n",
        "            lw=lw,\n",
        "            label=\"ROC curve (area = %0.2f)\" % roc_auc[2],\n",
        "        )\n",
        "        plt.plot([0, 1], [0, 1], color=\"navy\", lw=lw, linestyle=\"--\")\n",
        "        plt.xlim([0.0, 1.0])\n",
        "        plt.ylim([0.0, 1.05])\n",
        "        plt.xlabel(\"False Positive Rate\")\n",
        "        plt.ylabel(\"True Positive Rate\")\n",
        "        plt.title(\"Receiver operating characteristic example\")\n",
        "        plt.legend(loc=\"lower right\")\n",
        "        plt.show()\n",
        "\n",
        "\n",
        "\n",
        "    print('Test Accuracy of the model on test set: %.2f' % (1-(acc0+acc1+acc2)/3))\n",
        "    return (1-(acc0+acc1+acc2)/3)\n",
        "\n",
        "def acc_of_one_nn_run(NN):\n",
        "    nnet = NN\n",
        "    num_epochs = 100\n",
        "    ES = train(num_epochs, nnet, loaders)\n",
        "\n",
        "#    print(ES.best_model)\n",
        "\n",
        "\n",
        "    accuracy = test(ES.best_model)\n",
        "\n",
        "\n",
        "    # sample = next(iter(loaders['test']))\n",
        "    # imgs, lbls = sample\n",
        "\n",
        "    # actual_number = lbls[:10].numpy()\n",
        "    # actual_number\n",
        "\n",
        "    # test_output = ES.best_model(imgs[:10].float())\n",
        "    # pred_y = torch.max(test_output,-1)[1]\n",
        "    # print(f'Prediction number: {pred_y}')\n",
        "    # print(f'Actual number: {actual_number}')\n",
        "    return accuracy\n",
        "\n",
        "\n",
        "acc_of_one_nn_run(ANNModel(100, 3))\n"
      ],
      "metadata": {
        "id": "Ybyxx1Nxn8Ki"
      },
      "execution_count": null,
      "outputs": []
    },
    {
      "cell_type": "markdown",
      "source": [
        "# Evaluation"
      ],
      "metadata": {
        "id": "bs0BY4289PRs"
      }
    },
    {
      "cell_type": "code",
      "source": [
        "acc_of_one_nn_run(ANNModel, 4,3)"
      ],
      "metadata": {
        "id": "9XAzEnS3nwe5"
      },
      "execution_count": null,
      "outputs": []
    },
    {
      "cell_type": "code",
      "source": [
        "# Create ANN\n",
        "ACCs = []\n",
        "ACCs.append(acc_of_one_nn_run(ANNModel, 4,3))\n",
        "ACCs.append(acc_of_one_nn_run(ANNModel, 4,3))\n",
        "ACCs.append(acc_of_one_nn_run(ANNModel, 4,3))\n",
        "ACCs.append(acc_of_one_nn_run(ANNModel, 4,3))\n",
        "ACCs.append(acc_of_one_nn_run(ANNModel, 4,3))\n",
        "\n",
        "print(\"Average accuracy of 5 ANNs: \", np.mean([i for i in ACCs]))\n",
        "\n"
      ],
      "metadata": {
        "id": "7vB1EEaJ2TSY"
      },
      "execution_count": null,
      "outputs": []
    },
    {
      "cell_type": "code",
      "source": [
        "# Create CNN\n",
        "ACCs_c = []\n",
        "ACCs_c.append(acc_of_one_nn_run(CNN))\n",
        "ACCs_c.append(acc_of_one_nn_run(CNN))\n",
        "ACCs_c.append(acc_of_one_nn_run(CNN))\n",
        "ACCs_c.append(acc_of_one_nn_run(CNN))\n",
        "ACCs_c.append(acc_of_one_nn_run(CNN))\n",
        "\n",
        "\n",
        "print(\"Average accuracy of 5 CNNs: \", np.mean([i for i in ACCs_c]))"
      ],
      "metadata": {
        "id": "qz_g07MRyfm_"
      },
      "execution_count": null,
      "outputs": []
    },
    {
      "cell_type": "markdown",
      "source": [
        "count free parameters"
      ],
      "metadata": {
        "id": "4vmhgJOB9XXF"
      }
    },
    {
      "cell_type": "code",
      "source": [
        "\n",
        "\n",
        "ANN_params = sum(p.numel() for p in model.parameters() if p.requires_grad)\n",
        "print(ANN_params)\n",
        "CNN_params = sum(p.numel() for p in CNN().parameters() if p.requires_grad)\n",
        "print(\"Average accuracy of 5 CNNs: \", CNN_params)"
      ],
      "metadata": {
        "colab": {
          "base_uri": "https://localhost:8080/"
        },
        "id": "UzaaxVGg5vZ3",
        "outputId": "ed30434c-d3fd-4c10-cdae-583fce0a7ecb"
      },
      "execution_count": null,
      "outputs": [
        {
          "output_type": "stream",
          "name": "stdout",
          "text": [
            "648010\n",
            "28938\n"
          ]
        }
      ]
    }
  ]
}